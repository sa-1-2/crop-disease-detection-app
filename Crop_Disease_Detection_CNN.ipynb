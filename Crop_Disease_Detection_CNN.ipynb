{
 "cells": [
  {
   "cell_type": "markdown",
   "metadata": {
    "_uuid": "1020827e241ac87ffdf8e0f8762a6885bdc28fbc",
    "id": "KRQ-3_hFMlHm"
   },
   "source": [
    "Import neccessary packages"
   ]
  },
  {
   "cell_type": "code",
   "execution_count": 1,
   "metadata": {
    "_cell_guid": "b1076dfc-b9ad-4769-8c92-a6c4dae69d19",
    "_uuid": "8f2839f25d086af736a60e9eeb907d3b93b6e0e5",
    "colab": {
     "base_uri": "https://localhost:8080/",
     "height": 418
    },
    "execution": {
     "iopub.execute_input": "2024-02-19T07:13:06.910808Z",
     "iopub.status.busy": "2024-02-19T07:13:06.910488Z",
     "iopub.status.idle": "2024-02-19T07:13:10.563121Z",
     "shell.execute_reply": "2024-02-19T07:13:10.562249Z",
     "shell.execute_reply.started": "2024-02-19T07:13:06.910760Z"
    },
    "executionInfo": {
     "elapsed": 661,
     "status": "error",
     "timestamp": 1708158984896,
     "user": {
      "displayName": "Shreyas Gosavi",
      "userId": "04673177072453508192"
     },
     "user_tz": -330
    },
    "id": "HNnFbBOdMlHt",
    "outputId": "7b422797-1380-4718-9e98-9e64a2258e2f"
   },
   "outputs": [
    {
     "name": "stderr",
     "output_type": "stream",
     "text": [
      "Using TensorFlow backend.\n"
     ]
    }
   ],
   "source": [
    "import numpy as np \n",
    "import pickle\n",
    "import cv2\n",
    "from os import listdir\n",
    "from sklearn.preprocessing import LabelBinarizer\n",
    "from keras.models import Sequential\n",
    "from keras.layers.normalization import BatchNormalization\n",
    "from keras.layers.convolutional import Conv2D\n",
    "from keras.layers.convolutional import MaxPooling2D\n",
    "from keras.layers.core import Activation, Flatten, Dropout, Dense\n",
    "from keras import backend as K\n",
    "from keras.preprocessing.image import ImageDataGenerator\n",
    "from keras.optimizers import Adam\n",
    "from keras.preprocessing import image\n",
    "from keras.preprocessing.image import img_to_array\n",
    "from sklearn.preprocessing import MultiLabelBinarizer\n",
    "from sklearn.model_selection import train_test_split\n",
    "import matplotlib.pyplot as plt"
   ]
  },
  {
   "cell_type": "code",
   "execution_count": 2,
   "metadata": {
    "execution": {
     "iopub.execute_input": "2024-02-19T07:13:10.564783Z",
     "iopub.status.busy": "2024-02-19T07:13:10.564470Z",
     "iopub.status.idle": "2024-02-19T07:13:10.568936Z",
     "shell.execute_reply": "2024-02-19T07:13:10.568227Z",
     "shell.execute_reply.started": "2024-02-19T07:13:10.564729Z"
    },
    "executionInfo": {
     "elapsed": 20,
     "status": "aborted",
     "timestamp": 1708158984896,
     "user": {
      "displayName": "Shreyas Gosavi",
      "userId": "04673177072453508192"
     },
     "user_tz": -330
    },
    "id": "0pCgGhknMlHu"
   },
   "outputs": [],
   "source": [
    "# example of loading an image with the Keras API\n",
    "from keras.preprocessing.image import load_img"
   ]
  },
  {
   "cell_type": "code",
   "execution_count": 3,
   "metadata": {
    "_uuid": "7c3354a78e21a1a62ad0c4689d0ab3238fb760d4",
    "execution": {
     "iopub.execute_input": "2024-02-19T07:13:10.570449Z",
     "iopub.status.busy": "2024-02-19T07:13:10.570165Z",
     "iopub.status.idle": "2024-02-19T07:13:10.581667Z",
     "shell.execute_reply": "2024-02-19T07:13:10.580856Z",
     "shell.execute_reply.started": "2024-02-19T07:13:10.570391Z"
    },
    "executionInfo": {
     "elapsed": 21,
     "status": "aborted",
     "timestamp": 1708158984897,
     "user": {
      "displayName": "Shreyas Gosavi",
      "userId": "04673177072453508192"
     },
     "user_tz": -330
    },
    "id": "Y5WPw_b4MlHv"
   },
   "outputs": [],
   "source": [
    "EPOCHS = 25\n",
    "INIT_LR = 1e-3\n",
    "BS = 32\n",
    "default_image_size = tuple((256, 256))\n",
    "image_size = 0\n",
    "directory_root = '../input/plantvillage/'\n",
    "width=256\n",
    "height=256\n",
    "depth=3"
   ]
  },
  {
   "cell_type": "markdown",
   "metadata": {
    "_uuid": "2bf7ac0a0b805946f844a48e55d5281403e53f57",
    "id": "ifWSAi5TMlHv"
   },
   "source": [
    "Function to convert images to array"
   ]
  },
  {
   "cell_type": "code",
   "execution_count": 4,
   "metadata": {
    "_uuid": "c9c3e60b13ace6c8f3e54336e12f9970fde438a3",
    "execution": {
     "iopub.execute_input": "2024-02-19T07:13:10.583022Z",
     "iopub.status.busy": "2024-02-19T07:13:10.582797Z",
     "iopub.status.idle": "2024-02-19T07:13:10.592096Z",
     "shell.execute_reply": "2024-02-19T07:13:10.591315Z",
     "shell.execute_reply.started": "2024-02-19T07:13:10.582979Z"
    },
    "executionInfo": {
     "elapsed": 21,
     "status": "aborted",
     "timestamp": 1708158984897,
     "user": {
      "displayName": "Shreyas Gosavi",
      "userId": "04673177072453508192"
     },
     "user_tz": -330
    },
    "id": "pHBhBdxdMlHw"
   },
   "outputs": [],
   "source": [
    "def convert_image_to_array(image_dir):\n",
    "    try:\n",
    "        image = cv2.imread(image_dir)\n",
    "        if image is not None :\n",
    "            image = cv2.resize(image, default_image_size)\n",
    "            return img_to_array(image)\n",
    "        else :\n",
    "            return np.array([])\n",
    "    except Exception as e:\n",
    "        print(f\"Error : {e}\")\n",
    "        return None"
   ]
  },
  {
   "cell_type": "markdown",
   "metadata": {
    "_uuid": "24d42b87fad54a9556f78357ce673cc5152468c1",
    "id": "vKdGkRQ7MlHw"
   },
   "source": [
    "Fetch images from directory"
   ]
  },
  {
   "cell_type": "code",
   "execution_count": 5,
   "metadata": {
    "_uuid": "bb8d4c343314028f52ae3c3a840478a834a16c95",
    "execution": {
     "iopub.execute_input": "2024-02-19T07:13:10.593488Z",
     "iopub.status.busy": "2024-02-19T07:13:10.593255Z",
     "iopub.status.idle": "2024-02-19T07:13:35.680012Z",
     "shell.execute_reply": "2024-02-19T07:13:35.679233Z",
     "shell.execute_reply.started": "2024-02-19T07:13:10.593442Z"
    },
    "executionInfo": {
     "elapsed": 20,
     "status": "aborted",
     "timestamp": 1708158984897,
     "user": {
      "displayName": "Shreyas Gosavi",
      "userId": "04673177072453508192"
     },
     "user_tz": -330
    },
    "id": "rhXB4tZhMlHw"
   },
   "outputs": [
    {
     "name": "stdout",
     "output_type": "stream",
     "text": [
      "[INFO] Loading images ...\n",
      "[INFO] Processing Pepper__bell___Bacterial_spot ...\n",
      "[INFO] Processing Potato___healthy ...\n",
      "[INFO] Processing Tomato_Leaf_Mold ...\n",
      "[INFO] Processing Tomato__Tomato_YellowLeaf__Curl_Virus ...\n",
      "[INFO] Processing Tomato_Bacterial_spot ...\n",
      "[INFO] Processing Tomato_Septoria_leaf_spot ...\n",
      "[INFO] Processing Tomato_healthy ...\n",
      "[INFO] Processing Tomato_Spider_mites_Two_spotted_spider_mite ...\n",
      "[INFO] Processing Tomato_Early_blight ...\n",
      "[INFO] Processing Tomato__Target_Spot ...\n",
      "[INFO] Processing Pepper__bell___healthy ...\n",
      "[INFO] Processing Potato___Late_blight ...\n",
      "[INFO] Processing Tomato_Late_blight ...\n",
      "[INFO] Processing Potato___Early_blight ...\n",
      "[INFO] Processing Tomato__Tomato_mosaic_virus ...\n",
      "[INFO] Image loading completed\n"
     ]
    }
   ],
   "source": [
    "image_list, label_list = [], []\n",
    "try:\n",
    "    print(\"[INFO] Loading images ...\")\n",
    "    root_dir = listdir(directory_root)\n",
    "    for directory in root_dir :\n",
    "        # remove .DS_Store from list\n",
    "        if directory == \".DS_Store\" :\n",
    "            root_dir.remove(directory)\n",
    "\n",
    "    for plant_folder in root_dir :\n",
    "        plant_disease_folder_list = listdir(f\"{directory_root}/{plant_folder}\")\n",
    "\n",
    "        for disease_folder in plant_disease_folder_list :\n",
    "            # remove .DS_Store from list\n",
    "            if disease_folder == \".DS_Store\" :\n",
    "                plant_disease_folder_list.remove(disease_folder)\n",
    "\n",
    "        for plant_disease_folder in plant_disease_folder_list:\n",
    "            print(f\"[INFO] Processing {plant_disease_folder} ...\")\n",
    "            plant_disease_image_list = listdir(f\"{directory_root}/{plant_folder}/{plant_disease_folder}/\")\n",
    "\n",
    "            for single_plant_disease_image in plant_disease_image_list :\n",
    "                if single_plant_disease_image == \".DS_Store\" :\n",
    "                    plant_disease_image_list.remove(single_plant_disease_image)\n",
    "\n",
    "            for image in plant_disease_image_list[:200]:\n",
    "                image_directory = f\"{directory_root}/{plant_folder}/{plant_disease_folder}/{image}\"\n",
    "                if image_directory.endswith(\".jpg\") == True or image_directory.endswith(\".JPG\") == True:\n",
    "                    image_list.append(convert_image_to_array(image_directory))\n",
    "                    label_list.append(plant_disease_folder)\n",
    "    print(\"[INFO] Image loading completed\")\n",
    "except Exception as e:\n",
    "    print(f\"Error : {e}\")"
   ]
  },
  {
   "cell_type": "markdown",
   "metadata": {
    "_uuid": "35c4b76d33e0263523e479657580104532f81d6e",
    "id": "JAx7XTnOMlHx"
   },
   "source": [
    "Get Size of Processed Image"
   ]
  },
  {
   "cell_type": "code",
   "execution_count": 6,
   "metadata": {
    "_uuid": "6ee1ad9c422f112ec2862699b5c0f68b8d658123",
    "execution": {
     "iopub.execute_input": "2024-02-19T07:13:35.681640Z",
     "iopub.status.busy": "2024-02-19T07:13:35.681380Z",
     "iopub.status.idle": "2024-02-19T07:13:35.685283Z",
     "shell.execute_reply": "2024-02-19T07:13:35.684526Z",
     "shell.execute_reply.started": "2024-02-19T07:13:35.681595Z"
    },
    "executionInfo": {
     "elapsed": 21,
     "status": "aborted",
     "timestamp": 1708158984898,
     "user": {
      "displayName": "Shreyas Gosavi",
      "userId": "04673177072453508192"
     },
     "user_tz": -330
    },
    "id": "erM22MDXMlHy"
   },
   "outputs": [],
   "source": [
    "image_size = len(image_list)"
   ]
  },
  {
   "cell_type": "markdown",
   "metadata": {
    "_uuid": "905b41b226f3fd82a88e67821eb42a07f24b31f7",
    "id": "bEPIoGe0MlHy"
   },
   "source": [
    "Transform Image Labels uisng [Scikit Learn](http://scikit-learn.org/)'s LabelBinarizer"
   ]
  },
  {
   "cell_type": "code",
   "execution_count": 7,
   "metadata": {
    "_uuid": "904ff893fe14f5060dd9e7be2ccf96ec793597e5",
    "execution": {
     "iopub.execute_input": "2024-02-19T07:13:35.686510Z",
     "iopub.status.busy": "2024-02-19T07:13:35.686284Z",
     "iopub.status.idle": "2024-02-19T07:13:35.711010Z",
     "shell.execute_reply": "2024-02-19T07:13:35.710348Z",
     "shell.execute_reply.started": "2024-02-19T07:13:35.686468Z"
    },
    "executionInfo": {
     "elapsed": 21,
     "status": "aborted",
     "timestamp": 1708158984898,
     "user": {
      "displayName": "Shreyas Gosavi",
      "userId": "04673177072453508192"
     },
     "user_tz": -330
    },
    "id": "-xaguoNgMlHz"
   },
   "outputs": [],
   "source": [
    "label_binarizer = LabelBinarizer()\n",
    "image_labels = label_binarizer.fit_transform(label_list)\n",
    "pickle.dump(label_binarizer,open('label_transform.pkl', 'wb'))\n",
    "n_classes = len(label_binarizer.classes_)"
   ]
  },
  {
   "cell_type": "markdown",
   "metadata": {
    "_uuid": "f860c29a1d714f06d25e6a0c5bca94739e5d24cc",
    "id": "uVXBJc6hMlH0"
   },
   "source": [
    "Print the classes"
   ]
  },
  {
   "cell_type": "code",
   "execution_count": 8,
   "metadata": {
    "_uuid": "0f876397c40c3c8aa09772a92fd60481fc9ba268",
    "execution": {
     "iopub.execute_input": "2024-02-19T07:13:35.714094Z",
     "iopub.status.busy": "2024-02-19T07:13:35.713693Z",
     "iopub.status.idle": "2024-02-19T07:13:35.718709Z",
     "shell.execute_reply": "2024-02-19T07:13:35.717777Z",
     "shell.execute_reply.started": "2024-02-19T07:13:35.713887Z"
    },
    "executionInfo": {
     "elapsed": 21,
     "status": "aborted",
     "timestamp": 1708158984898,
     "user": {
      "displayName": "Shreyas Gosavi",
      "userId": "04673177072453508192"
     },
     "user_tz": -330
    },
    "id": "-xOiopYgMlH0"
   },
   "outputs": [
    {
     "name": "stdout",
     "output_type": "stream",
     "text": [
      "['Pepper__bell___Bacterial_spot' 'Pepper__bell___healthy'\n",
      " 'Potato___Early_blight' 'Potato___Late_blight' 'Potato___healthy'\n",
      " 'Tomato_Bacterial_spot' 'Tomato_Early_blight' 'Tomato_Late_blight'\n",
      " 'Tomato_Leaf_Mold' 'Tomato_Septoria_leaf_spot'\n",
      " 'Tomato_Spider_mites_Two_spotted_spider_mite' 'Tomato__Target_Spot'\n",
      " 'Tomato__Tomato_YellowLeaf__Curl_Virus' 'Tomato__Tomato_mosaic_virus'\n",
      " 'Tomato_healthy']\n"
     ]
    }
   ],
   "source": [
    "print(label_binarizer.classes_)"
   ]
  },
  {
   "cell_type": "code",
   "execution_count": 9,
   "metadata": {
    "_uuid": "6cd9c977b3d164a5570a0c24fdd8624adb9d56b8",
    "execution": {
     "iopub.execute_input": "2024-02-19T07:13:35.720495Z",
     "iopub.status.busy": "2024-02-19T07:13:35.720169Z",
     "iopub.status.idle": "2024-02-19T07:13:46.566561Z",
     "shell.execute_reply": "2024-02-19T07:13:46.565684Z",
     "shell.execute_reply.started": "2024-02-19T07:13:35.720434Z"
    },
    "executionInfo": {
     "elapsed": 22,
     "status": "aborted",
     "timestamp": 1708158984899,
     "user": {
      "displayName": "Shreyas Gosavi",
      "userId": "04673177072453508192"
     },
     "user_tz": -330
    },
    "id": "ad8dbwgjMlH0"
   },
   "outputs": [],
   "source": [
    "np_image_list = np.array(image_list, dtype=np.float16) / 225.0"
   ]
  },
  {
   "cell_type": "code",
   "execution_count": 10,
   "metadata": {
    "_uuid": "9f4829560fdfa218cee18c1cfb2eb9452ef180e5",
    "execution": {
     "iopub.execute_input": "2024-02-19T07:13:46.568180Z",
     "iopub.status.busy": "2024-02-19T07:13:46.567881Z",
     "iopub.status.idle": "2024-02-19T07:13:47.330388Z",
     "shell.execute_reply": "2024-02-19T07:13:47.329500Z",
     "shell.execute_reply.started": "2024-02-19T07:13:46.568125Z"
    },
    "executionInfo": {
     "elapsed": 21,
     "status": "aborted",
     "timestamp": 1708158984899,
     "user": {
      "displayName": "Shreyas Gosavi",
      "userId": "04673177072453508192"
     },
     "user_tz": -330
    },
    "id": "9Wiliyc6MlH1"
   },
   "outputs": [
    {
     "name": "stdout",
     "output_type": "stream",
     "text": [
      "[INFO] Spliting data to train, test\n"
     ]
    }
   ],
   "source": [
    "print(\"[INFO] Spliting data to train, test\")\n",
    "x_train, x_test, y_train, y_test = train_test_split(np_image_list, image_labels, test_size=0.2, random_state = 42)"
   ]
  },
  {
   "cell_type": "code",
   "execution_count": 11,
   "metadata": {
    "_uuid": "eec8afa64e676d52c814fc8e096955a60f13b6c5",
    "execution": {
     "iopub.execute_input": "2024-02-19T07:13:47.331978Z",
     "iopub.status.busy": "2024-02-19T07:13:47.331699Z",
     "iopub.status.idle": "2024-02-19T07:13:47.337413Z",
     "shell.execute_reply": "2024-02-19T07:13:47.336546Z",
     "shell.execute_reply.started": "2024-02-19T07:13:47.331919Z"
    },
    "executionInfo": {
     "elapsed": 21,
     "status": "aborted",
     "timestamp": 1708158984899,
     "user": {
      "displayName": "Shreyas Gosavi",
      "userId": "04673177072453508192"
     },
     "user_tz": -330
    },
    "id": "hZtnVYhOMlH1"
   },
   "outputs": [],
   "source": [
    "aug = ImageDataGenerator(\n",
    "    rotation_range=25, width_shift_range=0.1,\n",
    "    height_shift_range=0.1, shear_range=0.2,\n",
    "    zoom_range=0.2,horizontal_flip=True,\n",
    "    fill_mode=\"nearest\")"
   ]
  },
  {
   "cell_type": "code",
   "execution_count": 12,
   "metadata": {
    "_cell_guid": "79c7e3d0-c299-4dcb-8224-4455121ee9b0",
    "_uuid": "d629ff2d2480ee46fbb7e2d37f6b5fab8052498a",
    "execution": {
     "iopub.execute_input": "2024-02-19T07:13:47.339806Z",
     "iopub.status.busy": "2024-02-19T07:13:47.339467Z",
     "iopub.status.idle": "2024-02-19T07:13:49.943146Z",
     "shell.execute_reply": "2024-02-19T07:13:49.942547Z",
     "shell.execute_reply.started": "2024-02-19T07:13:47.339750Z"
    },
    "executionInfo": {
     "elapsed": 22,
     "status": "aborted",
     "timestamp": 1708158984900,
     "user": {
      "displayName": "Shreyas Gosavi",
      "userId": "04673177072453508192"
     },
     "user_tz": -330
    },
    "id": "mWw-nfw6MlH1"
   },
   "outputs": [],
   "source": [
    "model = Sequential()\n",
    "inputShape = (height, width, depth)\n",
    "chanDim = -1\n",
    "if K.image_data_format() == \"channels_first\":\n",
    "    inputShape = (depth, height, width)\n",
    "    chanDim = 1\n",
    "model.add(Conv2D(32, (3, 3), padding=\"same\",input_shape=inputShape))\n",
    "model.add(Activation(\"relu\"))\n",
    "model.add(BatchNormalization(axis=chanDim))\n",
    "model.add(MaxPooling2D(pool_size=(3, 3)))\n",
    "model.add(Dropout(0.25))\n",
    "model.add(Conv2D(64, (3, 3), padding=\"same\"))\n",
    "model.add(Activation(\"relu\"))\n",
    "model.add(BatchNormalization(axis=chanDim))\n",
    "model.add(Conv2D(64, (3, 3), padding=\"same\"))\n",
    "model.add(Activation(\"relu\"))\n",
    "model.add(BatchNormalization(axis=chanDim))\n",
    "model.add(MaxPooling2D(pool_size=(2, 2)))\n",
    "model.add(Dropout(0.25))\n",
    "model.add(Conv2D(128, (3, 3), padding=\"same\"))\n",
    "model.add(Activation(\"relu\"))\n",
    "model.add(BatchNormalization(axis=chanDim))\n",
    "model.add(Conv2D(128, (3, 3), padding=\"same\"))\n",
    "model.add(Activation(\"relu\"))\n",
    "model.add(BatchNormalization(axis=chanDim))\n",
    "model.add(MaxPooling2D(pool_size=(2, 2)))\n",
    "model.add(Dropout(0.25))\n",
    "model.add(Flatten())\n",
    "model.add(Dense(1024))\n",
    "model.add(Activation(\"relu\"))\n",
    "model.add(BatchNormalization())\n",
    "model.add(Dropout(0.5))\n",
    "model.add(Dense(n_classes))\n",
    "model.add(Activation(\"softmax\"))"
   ]
  },
  {
   "cell_type": "markdown",
   "metadata": {
    "_uuid": "53b13c03e4cea6dc2453a84e254b806ebeed2d99",
    "id": "c6dC5fPZMlH2"
   },
   "source": [
    "Model Summary"
   ]
  },
  {
   "cell_type": "code",
   "execution_count": 13,
   "metadata": {
    "_uuid": "1e1523a834fbf872940171fbdefb3dcce2b5f31b",
    "execution": {
     "iopub.execute_input": "2024-02-19T07:13:49.944551Z",
     "iopub.status.busy": "2024-02-19T07:13:49.944337Z",
     "iopub.status.idle": "2024-02-19T07:13:49.953158Z",
     "shell.execute_reply": "2024-02-19T07:13:49.952465Z",
     "shell.execute_reply.started": "2024-02-19T07:13:49.944513Z"
    },
    "executionInfo": {
     "elapsed": 23,
     "status": "aborted",
     "timestamp": 1708158984901,
     "user": {
      "displayName": "Shreyas Gosavi",
      "userId": "04673177072453508192"
     },
     "user_tz": -330
    },
    "id": "p1vpLd_IMlH2"
   },
   "outputs": [
    {
     "name": "stdout",
     "output_type": "stream",
     "text": [
      "_________________________________________________________________\n",
      "Layer (type)                 Output Shape              Param #   \n",
      "=================================================================\n",
      "conv2d_1 (Conv2D)            (None, 256, 256, 32)      896       \n",
      "_________________________________________________________________\n",
      "activation_1 (Activation)    (None, 256, 256, 32)      0         \n",
      "_________________________________________________________________\n",
      "batch_normalization_1 (Batch (None, 256, 256, 32)      128       \n",
      "_________________________________________________________________\n",
      "max_pooling2d_1 (MaxPooling2 (None, 85, 85, 32)        0         \n",
      "_________________________________________________________________\n",
      "dropout_1 (Dropout)          (None, 85, 85, 32)        0         \n",
      "_________________________________________________________________\n",
      "conv2d_2 (Conv2D)            (None, 85, 85, 64)        18496     \n",
      "_________________________________________________________________\n",
      "activation_2 (Activation)    (None, 85, 85, 64)        0         \n",
      "_________________________________________________________________\n",
      "batch_normalization_2 (Batch (None, 85, 85, 64)        256       \n",
      "_________________________________________________________________\n",
      "conv2d_3 (Conv2D)            (None, 85, 85, 64)        36928     \n",
      "_________________________________________________________________\n",
      "activation_3 (Activation)    (None, 85, 85, 64)        0         \n",
      "_________________________________________________________________\n",
      "batch_normalization_3 (Batch (None, 85, 85, 64)        256       \n",
      "_________________________________________________________________\n",
      "max_pooling2d_2 (MaxPooling2 (None, 42, 42, 64)        0         \n",
      "_________________________________________________________________\n",
      "dropout_2 (Dropout)          (None, 42, 42, 64)        0         \n",
      "_________________________________________________________________\n",
      "conv2d_4 (Conv2D)            (None, 42, 42, 128)       73856     \n",
      "_________________________________________________________________\n",
      "activation_4 (Activation)    (None, 42, 42, 128)       0         \n",
      "_________________________________________________________________\n",
      "batch_normalization_4 (Batch (None, 42, 42, 128)       512       \n",
      "_________________________________________________________________\n",
      "conv2d_5 (Conv2D)            (None, 42, 42, 128)       147584    \n",
      "_________________________________________________________________\n",
      "activation_5 (Activation)    (None, 42, 42, 128)       0         \n",
      "_________________________________________________________________\n",
      "batch_normalization_5 (Batch (None, 42, 42, 128)       512       \n",
      "_________________________________________________________________\n",
      "max_pooling2d_3 (MaxPooling2 (None, 21, 21, 128)       0         \n",
      "_________________________________________________________________\n",
      "dropout_3 (Dropout)          (None, 21, 21, 128)       0         \n",
      "_________________________________________________________________\n",
      "flatten_1 (Flatten)          (None, 56448)             0         \n",
      "_________________________________________________________________\n",
      "dense_1 (Dense)              (None, 1024)              57803776  \n",
      "_________________________________________________________________\n",
      "activation_6 (Activation)    (None, 1024)              0         \n",
      "_________________________________________________________________\n",
      "batch_normalization_6 (Batch (None, 1024)              4096      \n",
      "_________________________________________________________________\n",
      "dropout_4 (Dropout)          (None, 1024)              0         \n",
      "_________________________________________________________________\n",
      "dense_2 (Dense)              (None, 15)                15375     \n",
      "_________________________________________________________________\n",
      "activation_7 (Activation)    (None, 15)                0         \n",
      "=================================================================\n",
      "Total params: 58,102,671\n",
      "Trainable params: 58,099,791\n",
      "Non-trainable params: 2,880\n",
      "_________________________________________________________________\n"
     ]
    }
   ],
   "source": [
    "model.summary()"
   ]
  },
  {
   "cell_type": "code",
   "execution_count": 14,
   "metadata": {
    "_uuid": "b21dffee32c325136b4ea23ac511049723f34a24",
    "execution": {
     "iopub.execute_input": "2024-02-19T07:13:49.954589Z",
     "iopub.status.busy": "2024-02-19T07:13:49.954349Z",
     "iopub.status.idle": "2024-02-19T07:13:50.009707Z",
     "shell.execute_reply": "2024-02-19T07:13:50.008988Z",
     "shell.execute_reply.started": "2024-02-19T07:13:49.954540Z"
    },
    "executionInfo": {
     "elapsed": 2399,
     "status": "aborted",
     "timestamp": 1708158984902,
     "user": {
      "displayName": "Shreyas Gosavi",
      "userId": "04673177072453508192"
     },
     "user_tz": -330
    },
    "id": "FY5qzQQeMlH2"
   },
   "outputs": [
    {
     "name": "stdout",
     "output_type": "stream",
     "text": [
      "[INFO] training network...\n"
     ]
    }
   ],
   "source": [
    "opt = Adam(lr=INIT_LR, decay=INIT_LR / EPOCHS)\n",
    "# distribution\n",
    "model.compile(loss=\"binary_crossentropy\", optimizer=opt,metrics=[\"accuracy\"])\n",
    "# train the network\n",
    "print(\"[INFO] training network...\")"
   ]
  },
  {
   "cell_type": "code",
   "execution_count": 15,
   "metadata": {
    "_uuid": "1a13efc5ded339fc3c0d9e61041e8ca555362db0",
    "execution": {
     "iopub.execute_input": "2024-02-19T07:13:50.010929Z",
     "iopub.status.busy": "2024-02-19T07:13:50.010716Z",
     "iopub.status.idle": "2024-02-19T07:26:06.064785Z",
     "shell.execute_reply": "2024-02-19T07:26:06.063783Z",
     "shell.execute_reply.started": "2024-02-19T07:13:50.010883Z"
    },
    "executionInfo": {
     "elapsed": 2397,
     "status": "aborted",
     "timestamp": 1708158984902,
     "user": {
      "displayName": "Shreyas Gosavi",
      "userId": "04673177072453508192"
     },
     "user_tz": -330
    },
    "id": "sWb3ZBjxMlH3"
   },
   "outputs": [
    {
     "name": "stdout",
     "output_type": "stream",
     "text": [
      "Epoch 1/25\n",
      "73/73 [==============================] - 33s 447ms/step - loss: 0.2150 - acc: 0.9332 - val_loss: 0.9762 - val_acc: 0.8957\n",
      "Epoch 2/25\n",
      "73/73 [==============================] - 28s 389ms/step - loss: 0.1737 - acc: 0.9426 - val_loss: 0.4727 - val_acc: 0.9198\n",
      "Epoch 3/25\n",
      "73/73 [==============================] - 29s 392ms/step - loss: 0.1532 - acc: 0.9483 - val_loss: 0.5002 - val_acc: 0.9084\n",
      "Epoch 4/25\n",
      "73/73 [==============================] - 29s 398ms/step - loss: 0.1310 - acc: 0.9548 - val_loss: 0.6854 - val_acc: 0.8992\n",
      "Epoch 5/25\n",
      "73/73 [==============================] - 29s 401ms/step - loss: 0.1175 - acc: 0.9584 - val_loss: 0.3923 - val_acc: 0.9227\n",
      "Epoch 6/25\n",
      "73/73 [==============================] - 29s 404ms/step - loss: 0.1033 - acc: 0.9624 - val_loss: 1.2521 - val_acc: 0.8845\n",
      "Epoch 7/25\n",
      "73/73 [==============================] - 29s 396ms/step - loss: 0.0976 - acc: 0.9641 - val_loss: 0.4309 - val_acc: 0.9262\n",
      "Epoch 8/25\n",
      "73/73 [==============================] - 29s 395ms/step - loss: 0.0816 - acc: 0.9702 - val_loss: 0.3631 - val_acc: 0.9296\n",
      "Epoch 9/25\n",
      "73/73 [==============================] - 29s 399ms/step - loss: 0.0887 - acc: 0.9686 - val_loss: 0.4080 - val_acc: 0.9252\n",
      "Epoch 10/25\n",
      "73/73 [==============================] - 29s 398ms/step - loss: 0.0804 - acc: 0.9711 - val_loss: 0.2780 - val_acc: 0.9385\n",
      "Epoch 11/25\n",
      "73/73 [==============================] - 30s 407ms/step - loss: 0.0653 - acc: 0.9765 - val_loss: 0.1558 - val_acc: 0.9526\n",
      "Epoch 12/25\n",
      "73/73 [==============================] - 30s 414ms/step - loss: 0.0685 - acc: 0.9745 - val_loss: 0.2453 - val_acc: 0.9420\n",
      "Epoch 13/25\n",
      "73/73 [==============================] - 29s 402ms/step - loss: 0.0605 - acc: 0.9781 - val_loss: 0.1460 - val_acc: 0.9548\n",
      "Epoch 14/25\n",
      "73/73 [==============================] - 29s 400ms/step - loss: 0.0667 - acc: 0.9764 - val_loss: 0.3001 - val_acc: 0.9404\n",
      "Epoch 15/25\n",
      "73/73 [==============================] - 29s 400ms/step - loss: 0.0509 - acc: 0.9808 - val_loss: 0.2357 - val_acc: 0.9484\n",
      "Epoch 16/25\n",
      "73/73 [==============================] - 29s 396ms/step - loss: 0.0547 - acc: 0.9797 - val_loss: 0.1928 - val_acc: 0.9460\n",
      "Epoch 17/25\n",
      "73/73 [==============================] - 29s 397ms/step - loss: 0.0499 - acc: 0.9804 - val_loss: 0.1855 - val_acc: 0.9469\n",
      "Epoch 18/25\n",
      "73/73 [==============================] - 29s 401ms/step - loss: 0.0513 - acc: 0.9817 - val_loss: 0.2931 - val_acc: 0.9306\n",
      "Epoch 19/25\n",
      "73/73 [==============================] - 29s 402ms/step - loss: 0.0536 - acc: 0.9808 - val_loss: 1.1409 - val_acc: 0.8811\n",
      "Epoch 20/25\n",
      "73/73 [==============================] - 29s 398ms/step - loss: 0.0481 - acc: 0.9813 - val_loss: 0.5076 - val_acc: 0.9182\n",
      "Epoch 21/25\n",
      "73/73 [==============================] - 29s 401ms/step - loss: 0.0472 - acc: 0.9828 - val_loss: 0.2416 - val_acc: 0.9429\n",
      "Epoch 22/25\n",
      "73/73 [==============================] - 29s 400ms/step - loss: 0.0679 - acc: 0.9753 - val_loss: 0.9751 - val_acc: 0.8967\n",
      "Epoch 23/25\n",
      "73/73 [==============================] - 29s 396ms/step - loss: 0.0506 - acc: 0.9808 - val_loss: 0.1184 - val_acc: 0.9654\n",
      "Epoch 24/25\n",
      "73/73 [==============================] - 29s 402ms/step - loss: 0.0653 - acc: 0.9757 - val_loss: 0.8421 - val_acc: 0.8934\n",
      "Epoch 25/25\n",
      "73/73 [==============================] - 29s 397ms/step - loss: 0.0557 - acc: 0.9796 - val_loss: 0.3141 - val_acc: 0.9329\n"
     ]
    }
   ],
   "source": [
    "history = model.fit_generator(\n",
    "    aug.flow(x_train, y_train, batch_size=BS),\n",
    "    validation_data=(x_test, y_test),\n",
    "    steps_per_epoch=len(x_train) // BS,\n",
    "    epochs=EPOCHS, verbose=1\n",
    "    )"
   ]
  },
  {
   "cell_type": "markdown",
   "metadata": {
    "_uuid": "1495fea08b37e4d4293f975ba30e6c1fc7a85ed9",
    "id": "bgilcwB1MlH3"
   },
   "source": [
    "Plot the train and val curve"
   ]
  },
  {
   "cell_type": "code",
   "execution_count": 16,
   "metadata": {
    "_uuid": "0af5e0f23657a4effc2d21cf8e840e81f42ec8e7",
    "execution": {
     "iopub.execute_input": "2024-02-19T07:26:06.066765Z",
     "iopub.status.busy": "2024-02-19T07:26:06.066502Z",
     "iopub.status.idle": "2024-02-19T07:26:06.620180Z",
     "shell.execute_reply": "2024-02-19T07:26:06.619079Z",
     "shell.execute_reply.started": "2024-02-19T07:26:06.066714Z"
    },
    "executionInfo": {
     "elapsed": 2394,
     "status": "aborted",
     "timestamp": 1708158984902,
     "user": {
      "displayName": "Shreyas Gosavi",
      "userId": "04673177072453508192"
     },
     "user_tz": -330
    },
    "id": "FjrG9r6UMlH3"
   },
   "outputs": [
    {
     "data": {
      "image/png": "[encoded data removed]",
      "text/plain": [
       "<Figure size 432x288 with 1 Axes>"
      ]
     },
     "metadata": {},
     "output_type": "display_data"
    },
    {
     "data": {
      "image/png": "[encoded data removed]",
      "text/plain": [
       "<Figure size 432x288 with 1 Axes>"
      ]
     },
     "metadata": {},
     "output_type": "display_data"
    }
   ],
   "source": [
    "acc = history.history['acc']\n",
    "val_acc = history.history['val_acc']\n",
    "loss = history.history['loss']\n",
    "val_loss = history.history['val_loss']\n",
    "epochs = range(1, len(acc) + 1)\n",
    "#Train and validation accuracy\n",
    "plt.plot(epochs, acc, 'b', label='Training accurarcy')\n",
    "plt.plot(epochs, val_acc, 'r', label='Validation accurarcy')\n",
    "plt.title('Training and Validation accurarcy')\n",
    "plt.legend()\n",
    "\n",
    "plt.figure()\n",
    "#Train and validation loss\n",
    "plt.plot(epochs, loss, 'b', label='Training loss')\n",
    "plt.plot(epochs, val_loss, 'r', label='Validation loss')\n",
    "plt.title('Training and Validation loss')\n",
    "plt.legend()\n",
    "plt.show()"
   ]
  },
  {
   "cell_type": "markdown",
   "metadata": {
    "_uuid": "9ca1a4489bd624c69a13cd37c0c2306ac8de55c2",
    "id": "OBOcqzHBMlH3"
   },
   "source": [
    "Model Accuracy"
   ]
  },
  {
   "cell_type": "code",
   "execution_count": 17,
   "metadata": {
    "_uuid": "bb44f3d0b7e2862bc7d1a032612ebfd48212c1fe",
    "execution": {
     "iopub.execute_input": "2024-02-19T07:26:06.630270Z",
     "iopub.status.busy": "2024-02-19T07:26:06.626683Z",
     "iopub.status.idle": "2024-02-19T07:26:07.777160Z",
     "shell.execute_reply": "2024-02-19T07:26:07.776495Z",
     "shell.execute_reply.started": "2024-02-19T07:26:06.630177Z"
    },
    "executionInfo": {
     "elapsed": 2393,
     "status": "aborted",
     "timestamp": 1708158984903,
     "user": {
      "displayName": "Shreyas Gosavi",
      "userId": "04673177072453508192"
     },
     "user_tz": -330
    },
    "id": "s-MIahQGMlH4"
   },
   "outputs": [
    {
     "name": "stdout",
     "output_type": "stream",
     "text": [
      "[INFO] Calculating model accuracy\n",
      "591/591 [==============================] - 1s 2ms/step\n",
      "Test Accuracy: 93.28821303477343\n"
     ]
    }
   ],
   "source": [
    "print(\"[INFO] Calculating model accuracy\")\n",
    "scores = model.evaluate(x_test, y_test)\n",
    "print(f\"Test Accuracy: {scores[1]*100}\")"
   ]
  },
  {
   "cell_type": "markdown",
   "metadata": {
    "_uuid": "2a1f759db8afe933e62fe4cf8332cb303bb11be8",
    "id": "QgXbtMppMlH4"
   },
   "source": [
    "Save model using Pickle"
   ]
  },
  {
   "cell_type": "code",
   "execution_count": 18,
   "metadata": {
    "_uuid": "5cdf06adf492d79ed28fbdc36e02ad7489c7b33e",
    "execution": {
     "iopub.execute_input": "2024-02-19T07:26:07.778661Z",
     "iopub.status.busy": "2024-02-19T07:26:07.778398Z",
     "iopub.status.idle": "2024-02-19T07:26:10.798972Z",
     "shell.execute_reply": "2024-02-19T07:26:10.798068Z",
     "shell.execute_reply.started": "2024-02-19T07:26:07.778610Z"
    },
    "executionInfo": {
     "elapsed": 2391,
     "status": "aborted",
     "timestamp": 1708158984903,
     "user": {
      "displayName": "Shreyas Gosavi",
      "userId": "04673177072453508192"
     },
     "user_tz": -330
    },
    "id": "A1D63wg_MlH4"
   },
   "outputs": [
    {
     "name": "stdout",
     "output_type": "stream",
     "text": [
      "[INFO] Saving model...\n"
     ]
    }
   ],
   "source": [
    "# save the model to disk\n",
    "print(\"[INFO] Saving model...\")\n",
    "pickle.dump(model,open('cnn_model.pkl', 'wb'))"
   ]
  },
  {
   "cell_type": "code",
   "execution_count": 19,
   "metadata": {
    "execution": {
     "iopub.execute_input": "2024-02-19T07:26:10.800866Z",
     "iopub.status.busy": "2024-02-19T07:26:10.800533Z",
     "iopub.status.idle": "2024-02-19T07:26:20.004129Z",
     "shell.execute_reply": "2024-02-19T07:26:20.003229Z",
     "shell.execute_reply.started": "2024-02-19T07:26:10.800802Z"
    },
    "executionInfo": {
     "elapsed": 2390,
     "status": "aborted",
     "timestamp": 1708158984904,
     "user": {
      "displayName": "Shreyas Gosavi",
      "userId": "04673177072453508192"
     },
     "user_tz": -330
    },
    "id": "56s0VdmOMlH4"
   },
   "outputs": [],
   "source": [
    "loaded_model = pickle.load(open('cnn_model.pkl', 'rb'))"
   ]
  },
  {
   "cell_type": "code",
   "execution_count": 20,
   "metadata": {
    "execution": {
     "iopub.execute_input": "2024-02-19T07:26:20.005639Z",
     "iopub.status.busy": "2024-02-19T07:26:20.005405Z",
     "iopub.status.idle": "2024-02-19T07:26:20.049918Z",
     "shell.execute_reply": "2024-02-19T07:26:20.049237Z",
     "shell.execute_reply.started": "2024-02-19T07:26:20.005599Z"
    },
    "executionInfo": {
     "elapsed": 2388,
     "status": "aborted",
     "timestamp": 1708158984904,
     "user": {
      "displayName": "Shreyas Gosavi",
      "userId": "04673177072453508192"
     },
     "user_tz": -330
    },
    "id": "uatlEzMzMlH5"
   },
   "outputs": [],
   "source": [
    "image_dir=\"/kaggle/input/plantvillage/PlantVillage/Tomato_healthy/00bce074-967b-4d50-967a-31fdaa35e688___RS_HL 0223.JPG\"\n",
    "im1 = load_img(image_dir)\n",
    "\n",
    "im=convert_image_to_array(image_dir)\n",
    "np_image_li = np.array(im, dtype=np.float16) / 225.0\n",
    "npp_image = np.expand_dims(np_image_li, axis=0)\n"
   ]
  },
  {
   "cell_type": "code",
   "execution_count": 21,
   "metadata": {
    "execution": {
     "iopub.execute_input": "2024-02-19T07:26:20.051233Z",
     "iopub.status.busy": "2024-02-19T07:26:20.051022Z",
     "iopub.status.idle": "2024-02-19T07:26:20.340071Z",
     "shell.execute_reply": "2024-02-19T07:26:20.339204Z",
     "shell.execute_reply.started": "2024-02-19T07:26:20.051195Z"
    },
    "executionInfo": {
     "elapsed": 2387,
     "status": "aborted",
     "timestamp": 1708158984905,
     "user": {
      "displayName": "Shreyas Gosavi",
      "userId": "04673177072453508192"
     },
     "user_tz": -330
    },
    "id": "3wCp5blEMlH5"
   },
   "outputs": [
    {
     "name": "stdout",
     "output_type": "stream",
     "text": [
      "[[4.33317704e-15 1.41996352e-16 2.59286953e-10 1.73510052e-19\n",
      "  2.06448882e-14 4.19498485e-18 1.84960648e-19 1.13825245e-14\n",
      "  2.12339646e-16 3.88705144e-11 1.63137889e-15 5.11029760e-12\n",
      "  3.82474260e-16 1.58414418e-16 1.00000000e+00]]\n"
     ]
    }
   ],
   "source": [
    "result=model.predict(npp_image)\n",
    "print(result)"
   ]
  },
  {
   "cell_type": "code",
   "execution_count": 22,
   "metadata": {
    "execution": {
     "iopub.execute_input": "2024-02-19T07:26:20.341679Z",
     "iopub.status.busy": "2024-02-19T07:26:20.341439Z",
     "iopub.status.idle": "2024-02-19T07:26:20.346310Z",
     "shell.execute_reply": "2024-02-19T07:26:20.345563Z",
     "shell.execute_reply.started": "2024-02-19T07:26:20.341637Z"
    },
    "executionInfo": {
     "elapsed": 2386,
     "status": "aborted",
     "timestamp": 1708158984905,
     "user": {
      "displayName": "Shreyas Gosavi",
      "userId": "04673177072453508192"
     },
     "user_tz": -330
    },
    "id": "u6IpknT5MlH5"
   },
   "outputs": [
    {
     "name": "stdout",
     "output_type": "stream",
     "text": [
      "probability:1.0\n",
      "Tomato_healthy\n"
     ]
    }
   ],
   "source": [
    "itemindex = np.where(result==np.max(result))\n",
    "print(\"probability:\"+str(np.max(result))+\"\\n\"+label_binarizer.classes_[itemindex[1][0]])"
   ]
  }
 ],
 "metadata": {
  "accelerator": "GPU",
  "colab": {
   "gpuType": "T4",
   "provenance": []
  },
  "kaggle": {
   "accelerator": "gpu",
   "dataSources": [
    {
     "datasetId": 70909,
     "sourceId": 150545,
     "sourceType": "datasetVersion"
    }
   ],
   "dockerImageVersionId": 21696,
   "isGpuEnabled": true,
   "isInternetEnabled": false,
   "language": "python",
   "sourceType": "notebook"
  },
  "kernelspec": {
   "display_name": "Python 3 (ipykernel)",
   "language": "python",
   "name": "python3"
  },
  "language_info": {
   "codemirror_mode": {
    "name": "ipython",
    "version": 3
   },
   "file_extension": ".py",
   "mimetype": "text/x-python",
   "name": "python",
   "nbconvert_exporter": "python",
   "pygments_lexer": "ipython3",
   "version": "3.10.9"
  }
 },
 "nbformat": 4,
 "nbformat_minor": 4
}
